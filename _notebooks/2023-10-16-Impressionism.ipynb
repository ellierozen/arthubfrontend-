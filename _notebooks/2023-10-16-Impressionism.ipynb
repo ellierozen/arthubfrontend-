{
 "cells": [
  {
   "cell_type": "code",
   "execution_count": 2,
   "metadata": {
    "vscode": {
     "languageId": "html"
    }
   },
   "outputs": [
    {
     "data": {
      "text/html": [
       "<html>\n",
       "<head>\n",
       "    <title>Impressionism Movement Information</title>\n",
       "</head>\n",
       "<body>\n",
       "\n",
       "<h1>Impressionism: Capturing the Essence of Light and Movement</h1>\n",
       "\n",
       "<h2>Introduction</h2>\n",
       "<p id=\"introduction\"></p>\n",
       "\n",
       "<h2>Key Characteristics</h2>\n",
       "<ul id=\"characteristics\"></ul>\n",
       "\n",
       "<h2>Evolution</h2>\n",
       "<p id=\"evolution\"></p>\n",
       "\n",
       "<h2>Impact and Legacy</h2>\n",
       "<p id=\"impact\"></p>\n",
       "\n",
       "<h2>Famous Works</h2>\n",
       "<ul id=\"works\"></ul>\n",
       "\n",
       "<h2>Embracing the Transient</h2>\n",
       "<p id=\"transient\"></p>\n",
       "\n",
       "<script>\n",
       "    document.getElementById('introduction').innerText = \"Impressionism, an influential art movement of the 19th century, revolutionized the way artists perceived and represented the world...\";\n",
       "    document.getElementById('characteristics').innerHTML = \"<li>Focus on Light and Color</li><li>Brushstroke Technique</li><li>Everyday Scenes</li>\";\n",
       "    document.getElementById('evolution').innerText = \"Early Impressionist works were often rejected by the mainstream art establishment...\";\n",
       "    document.getElementById('impact').innerText = \"The Impressionist movement not only transformed the art world but also influenced subsequent generations of artists...\";\n",
       "    document.getElementById('works').innerHTML = \"<li>\\\"Water Lilies\\\" series by Claude Monet</li><li>\\\"Dancers at the Bar\\\" by Edgar Degas</li><li>\\\"Luncheon of the Boating Party\\\" by Pierre-Auguste Renoir</li><li>\\\"Boulevard Montmartre at Night\\\" by Camille Pissarro</li>\";\n",
       "    document.getElementById('transient').innerText = \"Impressionism continues to inspire and captivate audiences, inviting viewers to appreciate the fleeting moments of life and the ever-changing beauty of the natural world...\";\n",
       "</script>\n",
       "\n",
       "</body>\n",
       "</html>\n"
      ],
      "text/plain": [
       "<IPython.core.display.HTML object>"
      ]
     },
     "metadata": {},
     "output_type": "display_data"
    }
   ],
   "source": [
    "%%HTML\n",
    "<html>\n",
    "<head>\n",
    "    <title>Impressionism Movement Information</title>\n",
    "</head>\n",
    "<body>\n",
    "\n",
    "<h1>Impressionism: Capturing the Essence of Light and Movement</h1>\n",
    "\n",
    "<h2>Introduction</h2>\n",
    "<p id=\"introduction\"></p>\n",
    "\n",
    "<h2>Key Characteristics</h2>\n",
    "<ul id=\"characteristics\"></ul>\n",
    "\n",
    "<h2>Evolution</h2>\n",
    "<p id=\"evolution\"></p>\n",
    "\n",
    "<h2>Impact and Legacy</h2>\n",
    "<p id=\"impact\"></p>\n",
    "\n",
    "<h2>Famous Works</h2>\n",
    "<ul id=\"works\"></ul>\n",
    "\n",
    "<h2>Embracing the Transient</h2>\n",
    "<p id=\"transient\"></p>\n",
    "\n",
    "<script>\n",
    "    document.getElementById('introduction').innerText = \"Impressionism, an influential art movement of the 19th century, revolutionized the way artists perceived and represented the world...\";\n",
    "    document.getElementById('characteristics').innerHTML = \"<li>Focus on Light and Color</li><li>Brushstroke Technique</li><li>Everyday Scenes</li>\";\n",
    "    document.getElementById('evolution').innerText = \"Early Impressionist works were often rejected by the mainstream art establishment...\";\n",
    "    document.getElementById('impact').innerText = \"The Impressionist movement not only transformed the art world but also influenced subsequent generations of artists...\";\n",
    "    document.getElementById('works').innerHTML = \"<li>\\\"Water Lilies\\\" series by Claude Monet</li><li>\\\"Dancers at the Bar\\\" by Edgar Degas</li><li>\\\"Luncheon of the Boating Party\\\" by Pierre-Auguste Renoir</li><li>\\\"Boulevard Montmartre at Night\\\" by Camille Pissarro</li>\";\n",
    "    document.getElementById('transient').innerText = \"Impressionism continues to inspire and captivate audiences, inviting viewers to appreciate the fleeting moments of life and the ever-changing beauty of the natural world...\";\n",
    "</script>\n",
    "\n",
    "</body>\n",
    "</html>\n"
   ]
  }
 ],
 "metadata": {
  "kernelspec": {
   "display_name": "Python 3",
   "language": "python",
   "name": "python3"
  },
  "language_info": {
   "codemirror_mode": {
    "name": "ipython",
    "version": 3
   },
   "file_extension": ".py",
   "mimetype": "text/x-python",
   "name": "python",
   "nbconvert_exporter": "python",
   "pygments_lexer": "ipython3",
   "version": "3.10.12"
  },
  "orig_nbformat": 4
 },
 "nbformat": 4,
 "nbformat_minor": 2
}
