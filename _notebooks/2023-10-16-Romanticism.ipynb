{
 "cells": [
  {
   "cell_type": "code",
   "execution_count": 1,
   "metadata": {
    "vscode": {
     "languageId": "html"
    }
   },
   "outputs": [
    {
     "data": {
      "text/html": [
       "<html>\n",
       "<head>\n",
       "    <title>Romanticism Movement Information</title>\n",
       "</head>\n",
       "<body>\n",
       "\n",
       "<h1>Romanticism: A Celebration of Emotion and Imagination</h1>\n",
       "\n",
       "<h2>Introduction</h2>\n",
       "<p id=\"introduction\"></p>\n",
       "\n",
       "<h2>Key Characteristics</h2>\n",
       "<ul id=\"characteristics\"></ul>\n",
       "\n",
       "<h2>Main Themes</h2>\n",
       "<ul id=\"themes\"></ul>\n",
       "\n",
       "<h2>Representative Works</h2>\n",
       "<ul id=\"works\"></ul>\n",
       "\n",
       "<h2>Legacy</h2>\n",
       "<p id=\"legacy\"></p>\n",
       "\n",
       "<script>\n",
       "    document.getElementById('introduction').innerText = \"Romanticism was an artistic, literary, and intellectual movement that originated in Europe...\";\n",
       "    document.getElementById('characteristics').innerHTML = \"<li>Emphasis on Emotion and Individualism</li><li>Admiration of Nature and the Exotic</li><li>Celebration of the Sublime</li>\";\n",
       "    document.getElementById('themes').innerHTML = \"<li>Nature and Its Power</li><li>Love and Passion</li><li>Revolution and Rebellion</li>\";\n",
       "    document.getElementById('works').innerHTML = \"<li>'I Wandered Lonely as a Cloud' by William Wordsworth</li><li>'Don Juan' by Lord Byron</li><li>'Frankenstein' by Mary Shelley</li><li>'Wanderer above the Sea of Fog' by Caspar David Friedrich</li>\";\n",
       "    document.getElementById('legacy').innerText = \"Romanticism left an indelible mark on the arts and culture, influencing later movements and fostering a deeper appreciation of emotion and individual expression...\";\n",
       "</script>\n",
       "\n",
       "</body>\n",
       "</html>\n"
      ],
      "text/plain": [
       "<IPython.core.display.HTML object>"
      ]
     },
     "metadata": {},
     "output_type": "display_data"
    }
   ],
   "source": [
    "%%HTML\n",
    "<html>\n",
    "<head>\n",
    "    <title>Romanticism Movement Information</title>\n",
    "</head>\n",
    "<body>\n",
    "\n",
    "<h1>Romanticism: A Celebration of Emotion and Imagination</h1>\n",
    "\n",
    "<h2>Introduction</h2>\n",
    "<p id=\"introduction\"></p>\n",
    "\n",
    "<h2>Key Characteristics</h2>\n",
    "<ul id=\"characteristics\"></ul>\n",
    "\n",
    "<h2>Main Themes</h2>\n",
    "<ul id=\"themes\"></ul>\n",
    "\n",
    "<h2>Representative Works</h2>\n",
    "<ul id=\"works\"></ul>\n",
    "\n",
    "<h2>Legacy</h2>\n",
    "<p id=\"legacy\"></p>\n",
    "\n",
    "<script>\n",
    "    document.getElementById('introduction').innerText = \"Romanticism was an artistic, literary, and intellectual movement that originated in Europe...\";\n",
    "    document.getElementById('characteristics').innerHTML = \"<li>Emphasis on Emotion and Individualism</li><li>Admiration of Nature and the Exotic</li><li>Celebration of the Sublime</li>\";\n",
    "    document.getElementById('themes').innerHTML = \"<li>Nature and Its Power</li><li>Love and Passion</li><li>Revolution and Rebellion</li>\";\n",
    "    document.getElementById('works').innerHTML = \"<li>'I Wandered Lonely as a Cloud' by William Wordsworth</li><li>'Don Juan' by Lord Byron</li><li>'Frankenstein' by Mary Shelley</li><li>'Wanderer above the Sea of Fog' by Caspar David Friedrich</li>\";\n",
    "    document.getElementById('legacy').innerText = \"Romanticism left an indelible mark on the arts and culture, influencing later movements and fostering a deeper appreciation of emotion and individual expression...\";\n",
    "</script>\n",
    "\n",
    "</body>\n",
    "</html>\n"
   ]
  }
 ],
 "metadata": {
  "kernelspec": {
   "display_name": "Python 3",
   "language": "python",
   "name": "python3"
  },
  "language_info": {
   "codemirror_mode": {
    "name": "ipython",
    "version": 3
   },
   "file_extension": ".py",
   "mimetype": "text/x-python",
   "name": "python",
   "nbconvert_exporter": "python",
   "pygments_lexer": "ipython3",
   "version": "3.10.12"
  },
  "orig_nbformat": 4
 },
 "nbformat": 4,
 "nbformat_minor": 2
}
