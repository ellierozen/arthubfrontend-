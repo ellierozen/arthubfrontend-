{
 "cells": [
  {
   "cell_type": "markdown",
   "metadata": {},
   "source": [
    "### Cubism"
   ]
  },
  {
   "cell_type": "markdown",
   "metadata": {},
   "source": [
    "- Cubism was a revolutionary art movement that emerged in the early 20th century, pioneered by Pablo Picasso and Georges Braque.\n",
    "- It sought to deconstruct traditional perspective and representation, focusing on depicting objects from multiple viewpoints simultaneously.\n",
    "- The movement emphasized geometric shapes, complex angles, and fragmented forms, challenging the conventional notions of art and representation.\n",
    "- Artists often depicted subjects in a fragmented and abstracted manner, breaking them down into basic geometric shapes like cubes, spheres, and cones.\n",
    "- Cubist artworks often featured a monochromatic or limited color palette, highlighting the focus on form, texture, and structure rather than realistic representation.\n",
    "- The movement had two distinct phases: Analytical Cubism, characterized by the deconstruction of form and color, and Synthetic Cubism, which incorporated elements of collage and assemblage.\n",
    "- Cubism had a significant influence on subsequent art movements, including Futurism, Dadaism, and Constructivism, contributing to the development of modern art and challenging the traditional boundaries of artistic expression.\n",
    "\n",
    "\n",
    "\n",
    "\n"
   ]
  }
 ],
 "metadata": {
  "language_info": {
   "name": "python"
  },
  "orig_nbformat": 4
 },
 "nbformat": 4,
 "nbformat_minor": 2
}
