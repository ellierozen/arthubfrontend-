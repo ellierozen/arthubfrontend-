{
 "cells": [
  {
   "cell_type": "code",
   "execution_count": 11,
   "metadata": {
    "vscode": {
     "languageId": "html"
    }
   },
   "outputs": [
    {
     "data": {
      "text/html": [
       "<html>\n",
       "<head>\n",
       "    <title>Cubism Movement Information</title>\n",
       "</head>\n",
       "<body>\n",
       "\n",
       "<h1>Cubism: A Revolutionary Art Movement</h1>\n",
       "\n",
       "<h2>Introduction</h2>\n",
       "<p id=\"introduction\"></p>\n",
       "\n",
       "<h2>Key Characteristics</h2>\n",
       "<ul id=\"characteristics\"></ul>\n",
       "\n",
       "<h2>Evolution</h2>\n",
       "<p id=\"evolution\"></p>\n",
       "\n",
       "<h2>Impact and Legacy</h2>\n",
       "<p id=\"impact\"></p>\n",
       "\n",
       "<h2>Famous Works</h2>\n",
       "<ul id=\"works\"></ul>\n",
       "\n",
       "<h2>Exploration of Form and Perspective</h2>\n",
       "<p id=\"exploration\"></p>\n",
       "\n",
       "<script>\n",
       "    document.getElementById('introduction').innerText = \"Cubism was a revolutionary art movement that emerged in the early 20th century...\";\n",
       "    document.getElementById('characteristics').innerHTML = \"<li>Geometric Shapes</li><li>Multiple Perspectives</li><li>Monochrome Palette</li>\";\n",
       "    document.getElementById('evolution').innerText = \"In the initial phase, artists focused on deconstructing objects into basic geometric forms...\";\n",
       "    document.getElementById('impact').innerText = \"Cubism not only laid the groundwork for various art movements...\";\n",
       "    document.getElementById('works').innerHTML = \"<li>\\\"Les Demoiselles d'Avignon\\\" by Pablo Picasso</li><li>\\\"Violin and Candlestick\\\" by Georges Braque</li><li>\\\"Still Life with Checked Tablecloth\\\" by Juan Gris</li>\";\n",
       "    document.getElementById('exploration').innerText = \"Cubism remains an enduring symbol of artistic innovation...\";\n",
       "</script>\n",
       "\n",
       "</body>\n",
       "</html>\n"
      ],
      "text/plain": [
       "<IPython.core.display.HTML object>"
      ]
     },
     "metadata": {},
     "output_type": "display_data"
    }
   ],
   "source": [
    "%%HTML\n",
    "<html>\n",
    "<head>\n",
    "    <title>Cubism Movement Information</title>\n",
    "</head>\n",
    "<body>\n",
    "\n",
    "<h1>Cubism: A Revolutionary Art Movement</h1>\n",
    "\n",
    "<h2>Introduction</h2>\n",
    "<p id=\"introduction\"></p>\n",
    "\n",
    "<h2>Key Characteristics</h2>\n",
    "<ul id=\"characteristics\"></ul>\n",
    "\n",
    "<h2>Evolution</h2>\n",
    "<p id=\"evolution\"></p>\n",
    "\n",
    "<h2>Impact and Legacy</h2>\n",
    "<p id=\"impact\"></p>\n",
    "\n",
    "<h2>Famous Works</h2>\n",
    "<ul id=\"works\"></ul>\n",
    "\n",
    "<h2>Exploration of Form and Perspective</h2>\n",
    "<p id=\"exploration\"></p>\n",
    "\n",
    "<script>\n",
    "    document.getElementById('introduction').innerText = \"Cubism was a revolutionary art movement that emerged in the early 20th century...\";\n",
    "    document.getElementById('characteristics').innerHTML = \"<li>Geometric Shapes</li><li>Multiple Perspectives</li><li>Monochrome Palette</li>\";\n",
    "    document.getElementById('evolution').innerText = \"In the initial phase, artists focused on deconstructing objects into basic geometric forms...\";\n",
    "    document.getElementById('impact').innerText = \"Cubism not only laid the groundwork for various art movements...\";\n",
    "    document.getElementById('works').innerHTML = \"<li>\\\"Les Demoiselles d'Avignon\\\" by Pablo Picasso</li><li>\\\"Violin and Candlestick\\\" by Georges Braque</li><li>\\\"Still Life with Checked Tablecloth\\\" by Juan Gris</li>\";\n",
    "    document.getElementById('exploration').innerText = \"Cubism remains an enduring symbol of artistic innovation...\";\n",
    "</script>\n",
    "\n",
    "</body>\n",
    "</html>\n"
   ]
  }
 ],
 "metadata": {
  "kernelspec": {
   "display_name": "Python 3",
   "language": "python",
   "name": "python3"
  },
  "language_info": {
   "codemirror_mode": {
    "name": "ipython",
    "version": 3
   },
   "file_extension": ".py",
   "mimetype": "text/x-python",
   "name": "python",
   "nbconvert_exporter": "python",
   "pygments_lexer": "ipython3",
   "version": "3.10.12"
  },
  "orig_nbformat": 4
 },
 "nbformat": 4,
 "nbformat_minor": 2
}
