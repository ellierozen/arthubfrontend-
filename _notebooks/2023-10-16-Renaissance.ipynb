{
 "cells": [
  {
   "cell_type": "code",
   "execution_count": 1,
   "metadata": {
    "vscode": {
     "languageId": "html"
    }
   },
   "outputs": [
    {
     "data": {
      "text/html": [
       "<html>\n",
       "<head>\n",
       "    <title>Renaissance Movement Information</title>\n",
       "</head>\n",
       "<body>\n",
       "\n",
       "<h1>The Renaissance: A Flourishing of Art and Culture</h1>\n",
       "\n",
       "<h2>Introduction</h2>\n",
       "<p id=\"introduction\"></p>\n",
       "\n",
       "<h2>Key Characteristics</h2>\n",
       "<ul id=\"characteristics\"></ul>\n",
       "\n",
       "<h2>Major Contributors</h2>\n",
       "<ul id=\"contributors\"></ul>\n",
       "\n",
       "<h2>Notable Works</h2>\n",
       "<ul id=\"works\"></ul>\n",
       "\n",
       "<h2>Impact and Legacy</h2>\n",
       "<p id=\"impact\"></p>\n",
       "\n",
       "<script>\n",
       "    document.getElementById('introduction').innerText = \"The Renaissance was a transformative period in European history, marked by a revival of art, literature, and culture...\";\n",
       "    document.getElementById('characteristics').innerHTML = \"<li>Humanism and Individualism</li><li>Perspective and Realism in Art</li><li>Revival of Classical Themes</li>\";\n",
       "    document.getElementById('contributors').innerHTML = \"<li>Leonardo da Vinci</li><li>Michelangelo</li><li>Raphael</li><li>Sandro Botticelli</li>\";\n",
       "    document.getElementById('works').innerHTML = \"<li>Mona Lisa by Leonardo da Vinci</li><li>Sistine Chapel ceiling by Michelangelo</li><li>The School of Athens by Raphael</li><li>The Birth of Venus by Sandro Botticelli</li>\";\n",
       "    document.getElementById('impact').innerText = \"The Renaissance had a profound and lasting impact on art, culture, and intellectual pursuits, laying the foundation for modern society...\";\n",
       "</script>\n",
       "\n",
       "</body>\n",
       "</html>\n"
      ],
      "text/plain": [
       "<IPython.core.display.HTML object>"
      ]
     },
     "metadata": {},
     "output_type": "display_data"
    }
   ],
   "source": [
    "%%HTML\n",
    "<html>\n",
    "<head>\n",
    "    <title>Renaissance Movement Information</title>\n",
    "</head>\n",
    "<body>\n",
    "\n",
    "<h1>The Renaissance: A Flourishing of Art and Culture</h1>\n",
    "\n",
    "<h2>Introduction</h2>\n",
    "<p id=\"introduction\"></p>\n",
    "\n",
    "<h2>Key Characteristics</h2>\n",
    "<ul id=\"characteristics\"></ul>\n",
    "\n",
    "<h2>Major Contributors</h2>\n",
    "<ul id=\"contributors\"></ul>\n",
    "\n",
    "<h2>Notable Works</h2>\n",
    "<ul id=\"works\"></ul>\n",
    "\n",
    "<h2>Impact and Legacy</h2>\n",
    "<p id=\"impact\"></p>\n",
    "\n",
    "<script>\n",
    "    document.getElementById('introduction').innerText = \"The Renaissance was a transformative period in European history, marked by a revival of art, literature, and culture...\";\n",
    "    document.getElementById('characteristics').innerHTML = \"<li>Humanism and Individualism</li><li>Perspective and Realism in Art</li><li>Revival of Classical Themes</li>\";\n",
    "    document.getElementById('contributors').innerHTML = \"<li>Leonardo da Vinci</li><li>Michelangelo</li><li>Raphael</li><li>Sandro Botticelli</li>\";\n",
    "    document.getElementById('works').innerHTML = \"<li>Mona Lisa by Leonardo da Vinci</li><li>Sistine Chapel ceiling by Michelangelo</li><li>The School of Athens by Raphael</li><li>The Birth of Venus by Sandro Botticelli</li>\";\n",
    "    document.getElementById('impact').innerText = \"The Renaissance had a profound and lasting impact on art, culture, and intellectual pursuits, laying the foundation for modern society...\";\n",
    "</script>\n",
    "\n",
    "</body>\n",
    "</html>\n"
   ]
  }
 ],
 "metadata": {
  "kernelspec": {
   "display_name": "Python 3",
   "language": "python",
   "name": "python3"
  },
  "language_info": {
   "codemirror_mode": {
    "name": "ipython",
    "version": 3
   },
   "file_extension": ".py",
   "mimetype": "text/x-python",
   "name": "python",
   "nbconvert_exporter": "python",
   "pygments_lexer": "ipython3",
   "version": "3.10.12"
  },
  "orig_nbformat": 4
 },
 "nbformat": 4,
 "nbformat_minor": 2
}
