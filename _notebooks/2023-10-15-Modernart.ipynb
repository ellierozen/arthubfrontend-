{
 "cells": [
  {
   "cell_type": "markdown",
   "metadata": {},
   "source": [
    "### Modern Art"
   ]
  },
  {
   "cell_type": "markdown",
   "metadata": {},
   "source": [
    "- Modern Art is a broad artistic movement that emerged in the late 19th century and continued into the 20th century, characterized by a significant departure from traditional artistic conventions and a strong emphasis on experimentation and innovation.\n",
    "- The movement was a response to the social, political, and technological changes of the time, reflecting a growing interest in exploring new forms of expression and challenging established norms.\n",
    "- Modern artists sought to break away from representational traditions, embracing abstraction, minimalism, and conceptualism, and focusing on exploring new ideas, materials, and techniques.\n",
    "- The period saw the rise of various influential art movements, including Impressionism, Cubism, Surrealism, Abstract Expressionism, and Pop Art, each with its unique approach to artistic expression and interpretation.\n",
    "- Modern Art reflected the diversity and complexity of the modern world, addressing themes such as urbanization, industrialization, globalization, and the impact of war and technology on human society.\n",
    "- Prominent Modern artists included Pablo Picasso, Wassily Kandinsky, Marcel Duchamp, Jackson Pollock, and Andy Warhol, among many others, each contributing to the evolution of art and shaping the course of contemporary artistic practice."
   ]
  }
 ],
 "metadata": {
  "language_info": {
   "name": "python"
  },
  "orig_nbformat": 4
 },
 "nbformat": 4,
 "nbformat_minor": 2
}
