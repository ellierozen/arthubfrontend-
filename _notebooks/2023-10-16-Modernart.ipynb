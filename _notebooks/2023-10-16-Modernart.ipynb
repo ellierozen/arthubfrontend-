{
 "cells": [
  {
   "cell_type": "code",
   "execution_count": 1,
   "metadata": {
    "vscode": {
     "languageId": "html"
    }
   },
   "outputs": [
    {
     "data": {
      "text/html": [
       "<html>\n",
       "<head>\n",
       "    <title>Modern Art Movement Information</title>\n",
       "</head>\n",
       "<body>\n",
       "\n",
       "<h1>Modern Art: Breaking Boundaries and Redefining Creativity</h1>\n",
       "\n",
       "<h2>Introduction</h2>\n",
       "<p id=\"introduction\"></p>\n",
       "\n",
       "<h2>Key Characteristics</h2>\n",
       "<ul id=\"characteristics\"></ul>\n",
       "\n",
       "<h2>Evolution</h2>\n",
       "<p id=\"evolution\"></p>\n",
       "\n",
       "<h2>Impact and Legacy</h2>\n",
       "<p id=\"impact\"></p>\n",
       "\n",
       "<h2>Important Works</h2>\n",
       "<ul id=\"works\"></ul>\n",
       "\n",
       "<h2>Continuing Influence</h2>\n",
       "<p id=\"influence\"></p>\n",
       "\n",
       "<script>\n",
       "    document.getElementById('introduction').innerText = \"Modern Art is a diverse and innovative movement that emerged in the late 19th century...\";\n",
       "    document.getElementById('characteristics').innerHTML = \"<li>Experimentation with Form and Style</li><li>Rejection of Traditional Boundaries</li><li>Social and Political Commentary</li>\";\n",
       "    document.getElementById('evolution').innerText = \"Modern Art has undergone various phases and movements, including Cubism, Surrealism, Abstract Expressionism, and more...\";\n",
       "    document.getElementById('impact').innerText = \"The Modern Art movement has left an indelible mark on the art world, reshaping perceptions and challenging conventions...\";\n",
       "    document.getElementById('works').innerHTML = \"<li>\\\"Les Demoiselles d'Avignon\\\" by Pablo Picasso</li><li>\\\"The Persistence of Memory\\\" by Salvador Dali</li><li>\\\"Number 1A, 1948\\\" by Jackson Pollock</li><li>\\\"Composition VII\\\" by Wassily Kandinsky</li>\";\n",
       "    document.getElementById('influence').innerText = \"Modern Art continues to influence contemporary artists and shape the trajectory of the art world, fostering innovation and pushing boundaries...\";\n",
       "</script>\n",
       "\n",
       "</body>\n",
       "</html>\n"
      ],
      "text/plain": [
       "<IPython.core.display.HTML object>"
      ]
     },
     "metadata": {},
     "output_type": "display_data"
    }
   ],
   "source": [
    "%%HTML\n",
    "<html>\n",
    "<head>\n",
    "    <title>Modern Art Movement Information</title>\n",
    "</head>\n",
    "<body>\n",
    "\n",
    "<h1>Modern Art: Breaking Boundaries and Redefining Creativity</h1>\n",
    "\n",
    "<h2>Introduction</h2>\n",
    "<p id=\"introduction\"></p>\n",
    "\n",
    "<h2>Key Characteristics</h2>\n",
    "<ul id=\"characteristics\"></ul>\n",
    "\n",
    "<h2>Evolution</h2>\n",
    "<p id=\"evolution\"></p>\n",
    "\n",
    "<h2>Impact and Legacy</h2>\n",
    "<p id=\"impact\"></p>\n",
    "\n",
    "<h2>Important Works</h2>\n",
    "<ul id=\"works\"></ul>\n",
    "\n",
    "<h2>Continuing Influence</h2>\n",
    "<p id=\"influence\"></p>\n",
    "\n",
    "<script>\n",
    "    document.getElementById('introduction').innerText = \"Modern Art is a diverse and innovative movement that emerged in the late 19th century...\";\n",
    "    document.getElementById('characteristics').innerHTML = \"<li>Experimentation with Form and Style</li><li>Rejection of Traditional Boundaries</li><li>Social and Political Commentary</li>\";\n",
    "    document.getElementById('evolution').innerText = \"Modern Art has undergone various phases and movements, including Cubism, Surrealism, Abstract Expressionism, and more...\";\n",
    "    document.getElementById('impact').innerText = \"The Modern Art movement has left an indelible mark on the art world, reshaping perceptions and challenging conventions...\";\n",
    "    document.getElementById('works').innerHTML = \"<li>\\\"Les Demoiselles d'Avignon\\\" by Pablo Picasso</li><li>\\\"The Persistence of Memory\\\" by Salvador Dali</li><li>\\\"Number 1A, 1948\\\" by Jackson Pollock</li><li>\\\"Composition VII\\\" by Wassily Kandinsky</li>\";\n",
    "    document.getElementById('influence').innerText = \"Modern Art continues to influence contemporary artists and shape the trajectory of the art world, fostering innovation and pushing boundaries...\";\n",
    "</script>\n",
    "\n",
    "</body>\n",
    "</html>\n"
   ]
  }
 ],
 "metadata": {
  "kernelspec": {
   "display_name": "Python 3",
   "language": "python",
   "name": "python3"
  },
  "language_info": {
   "codemirror_mode": {
    "name": "ipython",
    "version": 3
   },
   "file_extension": ".py",
   "mimetype": "text/x-python",
   "name": "python",
   "nbconvert_exporter": "python",
   "pygments_lexer": "ipython3",
   "version": "3.10.12"
  },
  "orig_nbformat": 4
 },
 "nbformat": 4,
 "nbformat_minor": 2
}
