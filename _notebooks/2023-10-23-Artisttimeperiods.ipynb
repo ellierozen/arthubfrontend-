{
 "cells": [
  {
   "cell_type": "code",
   "execution_count": 1,
   "metadata": {},
   "outputs": [],
   "source": [
    "import tkinter as tk\n",
    "\n",
    "# Define a dictionary of information about artistic time periods\n",
    "time_periods = {\n",
    "    \"Renaissance\": \"A period in European history, covering the span between the 14th and 17th centuries.\",\n",
    "    \"Baroque\": \"A period in the history of Western art that roughly coincides with the 17th century.\",\n",
    "    \"Romanticism\": \"An artistic, literary, and intellectual movement that originated in the late 18th century.\",\n",
    "    \"Impressionism\": \"A 19th-century art movement characterized by relatively small, thin, yet visible brush strokes.\",\n",
    "    \"Cubism\": \"An early-20th-century avant-garde art movement that revolutionized European painting and sculpture.\",\n",
    "    # Add more time periods as needed\n",
    "}\n",
    "\n",
    "def display_info(period_name):\n",
    "    \"\"\"\n",
    "    Display information about the selected artistic time period.\n",
    "    :param period_name: The name of the selected artistic time period.\n",
    "    \"\"\"\n",
    "    info_label.config(text=time_periods[period_name])\n",
    "\n",
    "# Create the main window\n",
    "root = tk.Tk()\n",
    "root.title(\"Artistic Time Periods\")\n",
    "\n",
    "# Create buttons for each time period\n",
    "for period in time_periods:\n",
    "    button = tk.Button(root, text=period, command=lambda p=period: display_info(p))\n",
    "    button.pack(pady=5)\n",
    "\n",
    "# Create a label to display information about the selected time period\n",
    "info_label = tk.Label(root, text=\"Select an artistic time period to view information.\")\n",
    "info_label.pack(pady=10)\n",
    "\n",
    "# Run the main event loop\n",
    "root.mainloop()\n"
   ]
  }
 ],
 "metadata": {
  "kernelspec": {
   "display_name": "Python 3",
   "language": "python",
   "name": "python3"
  },
  "language_info": {
   "codemirror_mode": {
    "name": "ipython",
    "version": 3
   },
   "file_extension": ".py",
   "mimetype": "text/x-python",
   "name": "python",
   "nbconvert_exporter": "python",
   "pygments_lexer": "ipython3",
   "version": "3.10.12"
  }
 },
 "nbformat": 4,
 "nbformat_minor": 2
}
