{
 "cells": [
  {
   "cell_type": "code",
   "execution_count": null,
   "metadata": {
    "vscode": {
     "languageId": "html"
    }
   },
   "outputs": [],
   "source": [
    "<html>\n",
    "<head>\n",
    "<meta name=\"viewport\" content=\"width=device-width, initial-scale=1\">\n",
    "<style>\n",
    ".card {\n",
    "  box-shadow: 0 4px 8px 0 rgba(0,0,0,0.2);\n",
    "  transition: 0.3s;\n",
    "  width: 30%; /* Adjust the width as needed */\n",
    "  display: inline-block; /* Display cards side by side */\n",
    "  margin: 10px; \n",
    "  box-sizing: border-box; \n",
    "}\n",
    "\n",
    ".card:hover {\n",
    "  box-shadow: 0 8px 16px 0 rgba(0,0,0,0.2);\n",
    "}\n",
    "\n",
    ".container {\n",
    "  padding: 2px 16px;\n",
    "}\n",
    ".button {\n",
    "  background-color: #8654b8;\n",
    "  color: #fff;\n",
    "  border: none;\n",
    "  border-radius: 5px;\n",
    "  padding: 10px 20px;\n",
    "  text-decoration: none;\n",
    "  cursor: pointer;\n",
    "  display: inline-block;\n",
    "}\n",
    "\n",
    ".button:hover {\n",
    "  background-color: #634475;\n",
    "}\n",
    "</style>\n",
    "</head>\n",
    "<body>\n",
    "\n",
    "<h2>Realism Artists</h2>\n",
    "\n",
    "<div class=\"card\">\n",
    "  <img src=\"Courbet.png\" alt=\"Courbet\" style=\"width:100%\">\n",
    "  <div class=\"container\">\n",
    "    <h4><b>Gustave Courbet</b></h4> \n",
    "    <a href=\"https://www.w3schools.com/howto/tryit.asp?filename=tryhow_css_cards\" class=\"button\">More Info</a>\n",
    "    <p></p>\n",
    "  </div>\n",
    "</div>\n",
    "\n",
    "<div class=\"card\">\n",
    "  <img src=\"Millet.png\" alt=\"Millet\" style=\"width:100%\">\n",
    "  <div class=\"container\">\n",
    "    <h4><b>Jean-Francois Millet</b></h4> \n",
    "    <a href=\"https://www.w3schools.com/howto/tryit.asp?filename=tryhow_css_cards\" class=\"button\">More Info</a>\n",
    "    <p></p>\n",
    "  </div>\n",
    "</div>\n",
    "\n",
    "<div class=\"card\">\n",
    "  <img src=\"Bonheur.png\" alt=\"Bonheur\" style=\"width:100%\">\n",
    "  <div class=\"container\">\n",
    "    <h4><b>Rosa Bonheur</b></h4> \n",
    "    <a href=\"https://www.w3schools.com/howto/tryit.asp?filename=tryhow_css_cards\" class=\"button\">More Info</a>\n",
    "    <p></p>\n",
    "  </div>\n",
    "</div>\n",
    "\n",
    "</body>\n",
    "</html>"
   ]
  },
  {
   "cell_type": "markdown",
   "metadata": {},
   "source": [
    "# Gustave Courbet\n",
    "\n",
    "- Courbet was born on June 10, 1819, in Ornans, France. He came from a prosperous farming family and displayed an early interest in art. At the age of 20, he moved to Paris to pursue his artistic ambitions.\n",
    "- Courbet's art often sparked controversy, as it challenged conventional artistic norms and depicted subjects that were considered unsuitable for high art. His realistic approach to art, including his rejection of idealized beauty and academic traditions, made him a polarizing figure.\n",
    "- Courbet's career was marked by ups and downs, including periods of success and financial difficulties. He was politically active and involved in various social and political movements of his time, which sometimes led to controversy and legal troubles.\n",
    "\n",
    "### Notable Works \n",
    "- The Stone Breaker\n",
    "- A Burial at Ornans\n",
    "- The Artist's Studio \n",
    "\n",
    "### Realism Pioneer \n",
    "- Courbet is often hailed as the \"father of Realism\" for his commitment to portraying the unadorned and unidealized aspects of society and life. He believed in representing the truth in his art, a departure from the romantic and idealized styles prevalent at the time."
   ]
  },
  {
   "cell_type": "markdown",
   "metadata": {},
   "source": [
    "# Jean-François Millet\n",
    "- Millet was born on October 4, 1814, in the village of Gruchy, in Normandy, France. He came from a modest background, and his early years were spent working on his family's farm.\n",
    "- Millet showed an early aptitude for drawing, and his talent was recognized by local patrons who helped him pursue his artistic education. He eventually moved to Cherbourg to study art and later to Paris to continue his studies at the École des Beaux-Arts.\n",
    "- Millet's work gained recognition but also faced controversy due to its portrayal of peasants and the harsh conditions of rural life. While some viewed his work as revolutionary, others found it unsettling.\n",
    "\n",
    "### Notable Works\n",
    "- The Gleaners\n",
    "- The Angelus\n",
    "- The Sower\n",
    "\n",
    "### Barbizon School\n",
    "- Millet is closely associated with the Barbizon School, a group of French landscape painters who worked in the Fontainebleau Forest. The school emphasized painting rural and natural scenes, often in a Realist style. Millet's work is characterized by a deep connection to the countryside and a focus on the lives of rural laborers."
   ]
  },
  {
   "cell_type": "markdown",
   "metadata": {},
   "source": [
    "# Rosa Bonheur \n",
    "\n",
    "- Bonheur was born on March 16, 1822, in Bordeaux, France. She was the oldest of four children, and her father, a painter and drawing teacher, encouraged her early interest in art.\n",
    "- At a time when women had limited access to formal art education, Bonheur's talent was nurtured by her father. She received additional training under the tutelage of Auguste Raffet and Léon Cogniet.\n",
    "- Her realistic and detailed paintings gained recognition and brought her significant success. She was praised for her ability to capture the anatomy and character of animals.\n",
    "\n",
    "### Notable Works\n",
    "- The Horse Fair\n",
    "- Ploughing in the Nivernais\n",
    "- The Highland Raid\n",
    "\n",
    "### Cross-Dressing for Access\n",
    "- In a time when women artists faced significant barriers, Rosa Bonheur found it necessary to wear men's clothing when sketching and painting in public and at the horse fairs. This allowed her greater freedom of movement and access to locations that were otherwise off-limits to women."
   ]
  }
 ],
 "metadata": {
  "language_info": {
   "name": "python"
  }
 },
 "nbformat": 4,
 "nbformat_minor": 2
}
