{
 "cells": [
  {
   "cell_type": "markdown",
   "metadata": {},
   "source": [
    "# Romanticism"
   ]
  },
  {
   "cell_type": "markdown",
   "metadata": {},
   "source": [
    "- Romanticism was an artistic, literary, and intellectual movement that emerged in Europe in the late 18th century, reaching its peak in the first half of the 19th century.\n",
    "- The movement was a reaction against the rationalism and order of the Enlightenment, emphasizing emotion, individualism, and the sublime in art and literature.\n",
    "- Romantic artists sought to evoke strong emotional responses through their works, often focusing on themes such as nature, the supernatural, the exotic, and intense human passions.\n",
    "- Nature was a central theme in Romantic art, with artists portraying awe-inspiring landscapes, untamed wilderness, and dramatic natural phenomena to evoke a sense of the sublime and the infinite.\n",
    "- Romantic artists often celebrated the individual, emphasizing the importance of personal experience, intuition, and imagination over reason and logic.\n",
    "- The movement had a profound impact on various art forms, including painting, literature, music, and philosophy, fostering a sense of creativity, idealism, and the pursuit of freedom and social justice.\n",
    "- Prominent Romantic artists included J.M.W. Turner, Caspar David Friedrich, Francisco Goya, and Eugène Delacroix, each known for their distinct approaches to capturing the essence of the Romantic spirit in their works."
   ]
  }
 ],
 "metadata": {
  "language_info": {
   "name": "python"
  },
  "orig_nbformat": 4
 },
 "nbformat": 4,
 "nbformat_minor": 2
}
